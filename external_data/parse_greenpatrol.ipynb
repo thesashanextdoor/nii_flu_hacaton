{
 "cells": [
  {
   "cell_type": "code",
   "execution_count": 4,
   "metadata": {},
   "outputs": [],
   "source": [
    "import numpy as np\n",
    "import pandas as pd"
   ]
  },
  {
   "cell_type": "code",
   "execution_count": 80,
   "metadata": {},
   "outputs": [],
   "source": [
    "url = \"https://greenpatrol.ru/ru/stranica-dlya-obshchego-reytinga/ekologicheskiy-reyting-subektov-rf?tid=374\"\n",
    "data = pd.read_html(url)"
   ]
  },
  {
   "cell_type": "code",
   "execution_count": null,
   "metadata": {},
   "outputs": [],
   "source": []
  },
  {
   "cell_type": "code",
   "execution_count": 81,
   "metadata": {},
   "outputs": [],
   "source": [
    "df = pd.DataFrame(np.array(data)[:][3])"
   ]
  },
  {
   "cell_type": "code",
   "execution_count": 82,
   "metadata": {},
   "outputs": [
    {
     "data": {
      "text/plain": [
       "Index(['№', 'Субъект РФ', 'Природоохранный индекс',\n",
       "       'Промышленно-экологический индекс', 'Социально-экологический индекс',\n",
       "       'Сводный индекс'],\n",
       "      dtype='object')"
      ]
     },
     "execution_count": 82,
     "metadata": {},
     "output_type": "execute_result"
    }
   ],
   "source": [
    "df.columns"
   ]
  },
  {
   "cell_type": "code",
   "execution_count": 83,
   "metadata": {},
   "outputs": [
    {
     "data": {
      "text/html": [
       "<div>\n",
       "<style scoped>\n",
       "    .dataframe tbody tr th:only-of-type {\n",
       "        vertical-align: middle;\n",
       "    }\n",
       "\n",
       "    .dataframe tbody tr th {\n",
       "        vertical-align: top;\n",
       "    }\n",
       "\n",
       "    .dataframe thead th {\n",
       "        text-align: right;\n",
       "    }\n",
       "</style>\n",
       "<table border=\"1\" class=\"dataframe\">\n",
       "  <thead>\n",
       "    <tr style=\"text-align: right;\">\n",
       "      <th></th>\n",
       "      <th>№</th>\n",
       "      <th>Субъект РФ</th>\n",
       "      <th>Природоохранный индекс</th>\n",
       "      <th>Промышленно-экологический индекс</th>\n",
       "      <th>Социально-экологический индекс</th>\n",
       "      <th>Сводный индекс</th>\n",
       "    </tr>\n",
       "  </thead>\n",
       "  <tbody>\n",
       "    <tr>\n",
       "      <th>0</th>\n",
       "      <td>1</td>\n",
       "      <td>Тамбовская область</td>\n",
       "      <td>7030</td>\n",
       "      <td>5842</td>\n",
       "      <td>8119</td>\n",
       "      <td>7228</td>\n",
       "    </tr>\n",
       "    <tr>\n",
       "      <th>1</th>\n",
       "      <td>2</td>\n",
       "      <td>Алтайский край</td>\n",
       "      <td>6040</td>\n",
       "      <td>5545</td>\n",
       "      <td>7624</td>\n",
       "      <td>6535</td>\n",
       "    </tr>\n",
       "    <tr>\n",
       "      <th>2</th>\n",
       "      <td>3</td>\n",
       "      <td>Белгородская область</td>\n",
       "      <td>5545</td>\n",
       "      <td>5446</td>\n",
       "      <td>7822</td>\n",
       "      <td>6436</td>\n",
       "    </tr>\n",
       "    <tr>\n",
       "      <th>3</th>\n",
       "      <td>4</td>\n",
       "      <td>Республика Алтай</td>\n",
       "      <td>6931</td>\n",
       "      <td>4060</td>\n",
       "      <td>7426</td>\n",
       "      <td>6337</td>\n",
       "    </tr>\n",
       "    <tr>\n",
       "      <th>4</th>\n",
       "      <td>5</td>\n",
       "      <td>Москва</td>\n",
       "      <td>2872</td>\n",
       "      <td>6337</td>\n",
       "      <td>8119</td>\n",
       "      <td>6337</td>\n",
       "    </tr>\n",
       "    <tr>\n",
       "      <th>...</th>\n",
       "      <td>...</td>\n",
       "      <td>...</td>\n",
       "      <td>...</td>\n",
       "      <td>...</td>\n",
       "      <td>...</td>\n",
       "      <td>...</td>\n",
       "    </tr>\n",
       "    <tr>\n",
       "      <th>80</th>\n",
       "      <td>81</td>\n",
       "      <td>Нижегородская область</td>\n",
       "      <td>2773</td>\n",
       "      <td>3763</td>\n",
       "      <td>6238</td>\n",
       "      <td>4456</td>\n",
       "    </tr>\n",
       "    <tr>\n",
       "      <th>81</th>\n",
       "      <td>82</td>\n",
       "      <td>Республика Саха (Якутия)</td>\n",
       "      <td>4654</td>\n",
       "      <td>3565</td>\n",
       "      <td>4753</td>\n",
       "      <td>4357</td>\n",
       "    </tr>\n",
       "    <tr>\n",
       "      <th>82</th>\n",
       "      <td>83</td>\n",
       "      <td>Челябинская область</td>\n",
       "      <td>2080</td>\n",
       "      <td>4060</td>\n",
       "      <td>5941</td>\n",
       "      <td>4159</td>\n",
       "    </tr>\n",
       "    <tr>\n",
       "      <th>83</th>\n",
       "      <td>84</td>\n",
       "      <td>Свердловская область</td>\n",
       "      <td>3070</td>\n",
       "      <td>3961</td>\n",
       "      <td>5149</td>\n",
       "      <td>4060</td>\n",
       "    </tr>\n",
       "    <tr>\n",
       "      <th>84</th>\n",
       "      <td>85</td>\n",
       "      <td>Иркутская область</td>\n",
       "      <td>2575</td>\n",
       "      <td>3961</td>\n",
       "      <td>5347</td>\n",
       "      <td>4060</td>\n",
       "    </tr>\n",
       "  </tbody>\n",
       "</table>\n",
       "<p>85 rows × 6 columns</p>\n",
       "</div>"
      ],
      "text/plain": [
       "     №                Субъект РФ  Природоохранный индекс  \\\n",
       "0    1        Тамбовская область                    7030   \n",
       "1    2            Алтайский край                    6040   \n",
       "2    3      Белгородская область                    5545   \n",
       "3    4          Республика Алтай                    6931   \n",
       "4    5                    Москва                    2872   \n",
       "..  ..                       ...                     ...   \n",
       "80  81     Нижегородская область                    2773   \n",
       "81  82  Республика Саха (Якутия)                    4654   \n",
       "82  83       Челябинская область                    2080   \n",
       "83  84      Свердловская область                    3070   \n",
       "84  85         Иркутская область                    2575   \n",
       "\n",
       "    Промышленно-экологический индекс  Социально-экологический индекс  \\\n",
       "0                               5842                            8119   \n",
       "1                               5545                            7624   \n",
       "2                               5446                            7822   \n",
       "3                               4060                            7426   \n",
       "4                               6337                            8119   \n",
       "..                               ...                             ...   \n",
       "80                              3763                            6238   \n",
       "81                              3565                            4753   \n",
       "82                              4060                            5941   \n",
       "83                              3961                            5149   \n",
       "84                              3961                            5347   \n",
       "\n",
       "    Сводный индекс  \n",
       "0             7228  \n",
       "1             6535  \n",
       "2             6436  \n",
       "3             6337  \n",
       "4             6337  \n",
       "..             ...  \n",
       "80            4456  \n",
       "81            4357  \n",
       "82            4159  \n",
       "83            4060  \n",
       "84            4060  \n",
       "\n",
       "[85 rows x 6 columns]"
      ]
     },
     "execution_count": 83,
     "metadata": {},
     "output_type": "execute_result"
    }
   ],
   "source": [
    "df"
   ]
  },
  {
   "cell_type": "code",
   "execution_count": 84,
   "metadata": {},
   "outputs": [],
   "source": [
    "df[['Природоохранный индекс',\n",
    "       'Промышленно-экологический индекс', 'Социально-экологический индекс',\n",
    "       'Сводный индекс']] = df[['Природоохранный индекс',\n",
    "       'Промышленно-экологический индекс', 'Социально-экологический индекс',\n",
    "       'Сводный индекс']].apply(lambda x: x//100)"
   ]
  },
  {
   "cell_type": "code",
   "execution_count": 85,
   "metadata": {},
   "outputs": [],
   "source": [
    "df = df[['Субъект РФ', 'Природоохранный индекс',\n",
    "       'Промышленно-экологический индекс', 'Социально-экологический индекс',\n",
    "       'Сводный индекс']]"
   ]
  },
  {
   "cell_type": "code",
   "execution_count": 86,
   "metadata": {},
   "outputs": [],
   "source": [
    "df.to_csv(\"2019summmer_greenpatrol.csv\", index=False, encoding='utf-8-sig', sep=';')"
   ]
  },
  {
   "cell_type": "code",
   "execution_count": null,
   "metadata": {},
   "outputs": [],
   "source": []
  }
 ],
 "metadata": {
  "kernelspec": {
   "display_name": "Python 3",
   "language": "python",
   "name": "python3"
  },
  "language_info": {
   "codemirror_mode": {
    "name": "ipython",
    "version": 3
   },
   "file_extension": ".py",
   "mimetype": "text/x-python",
   "name": "python",
   "nbconvert_exporter": "python",
   "pygments_lexer": "ipython3",
   "version": "3.8.3"
  }
 },
 "nbformat": 4,
 "nbformat_minor": 4
}
